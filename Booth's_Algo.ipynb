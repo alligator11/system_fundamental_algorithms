{
  "nbformat": 4,
  "nbformat_minor": 0,
  "metadata": {
    "colab": {
      "provenance": []
    },
    "kernelspec": {
      "name": "python3",
      "display_name": "Python 3"
    },
    "language_info": {
      "name": "python"
    }
  },
  "cells": [
    {
      "cell_type": "code",
      "source": [
        "import numpy as np"
      ],
      "metadata": {
        "id": "rmofF2xOQob7"
      },
      "execution_count": null,
      "outputs": []
    },
    {
      "cell_type": "code",
      "execution_count": null,
      "metadata": {
        "colab": {
          "base_uri": "https://localhost:8080/"
        },
        "id": "9fBIYx6IN57V",
        "outputId": "27651d1b-3769-4041-8300-91d743ffd6eb"
      },
      "outputs": [
        {
          "name": "stdout",
          "output_type": "stream",
          "text": [
            "Enter multiplicant:-13\n",
            "Enter multiplier:-6\n"
          ]
        }
      ],
      "source": [
        "# taking user input\n",
        "x=int(input(\"Enter multiplicant:\"))\n",
        "y=int(input(\"Enter multiplier:\"))\n",
        "\n",
        "# converting to binary\n",
        "m=bin(x)\n",
        "q=bin(y)"
      ]
    },
    {
      "cell_type": "code",
      "source": [
        "# flag variable to keep track of negative numbers \n",
        "fm=0\n",
        "fq=0\n",
        "\n",
        "# converting negative input to two's compliment \n",
        "if(m[0]=='-'):\n",
        "  fm=1\n",
        "  temp=bin(~x)\n",
        "  m=m.replace(m,temp)\n",
        "\n",
        "if(q[0]=='-'):\n",
        "  fq=1\n",
        "  temp=bin(~y)\n",
        "  q=q.replace(q,temp)"
      ],
      "metadata": {
        "id": "5QmyMmuCRzs9"
      },
      "execution_count": null,
      "outputs": []
    },
    {
      "cell_type": "code",
      "source": [
        "flag=0\n",
        "len_m=len(m)-1\n",
        "len_q=len(q)-1\n",
        "\n",
        "# setting the counter to the greatest length of the two numbers\n",
        "if(len_q>len_m):\n",
        "  count=len_q\n",
        "  flag=1\n",
        "else:\n",
        "  count=len_m\n",
        "m1=np.zeros((count),dtype = int)\n",
        "q1=np.zeros((count),dtype = int)"
      ],
      "metadata": {
        "id": "tD1JulGnWLQH"
      },
      "execution_count": null,
      "outputs": []
    },
    {
      "cell_type": "code",
      "source": [
        "length=2*count+1\n",
        "a=np.zeros((length),dtype = int)"
      ],
      "metadata": {
        "id": "pWpTOgMkdJCe"
      },
      "execution_count": null,
      "outputs": []
    },
    {
      "cell_type": "code",
      "source": [
        "m1[0]=m[0]\n",
        "q1[0]=q[0]\n",
        "\n",
        "# filling the leftover space in the beginning of smaller length number with 0\n",
        "if flag==1:\n",
        "  for i in range(1,len_q):\n",
        "    q1[i]=q[i+1]\n",
        "\n",
        "  for i in range(1,len_q-len_m):  \n",
        "    m1[i]=0\n",
        "  for i in range(len_q-len_m+1,len_q):\n",
        "    m1[i]=m[i-(len_q-len_m)+1]\n",
        "\n",
        "else:\n",
        "  for i in range(1,len_m):\n",
        "    m1[i]=m[i+1]\n",
        "\n",
        "  for i in range(1,len_m-len_q):  \n",
        "    q1[i]=0\n",
        "  for i in range(len_m-len_q+1,len_m):\n",
        "    q1[i]=q[i-(len_m-len_q)+1]\n",
        "\n",
        "if(fm==1):\n",
        "  for i in range(0,count):\n",
        "    if(m1[i]==1):\n",
        "      m1[i]=0\n",
        "    else:\n",
        "      m1[i]=1\n",
        "\n",
        "if(fq==1):\n",
        "  for i in range(0,count):\n",
        "    if(q1[i]==1):\n",
        "      q1[i]=0\n",
        "    else:\n",
        "      q1[i]=1"
      ],
      "metadata": {
        "id": "YvLqF1FGjEW3"
      },
      "execution_count": null,
      "outputs": []
    },
    {
      "cell_type": "code",
      "source": [
        "def Add(x,y,count):\n",
        "  s=np.zeros((count),dtype = int)\n",
        "  carry=0\n",
        "  for i in range(count-1,-1,-1):\n",
        "    if x[i]==0 and y[i]==0:\n",
        "      if(carry==1):\n",
        "        s[i]=1\n",
        "        carry=0\n",
        "    elif (x[i]==1 and y[i]==0) or (x[i]==0 and y[i]==1):\n",
        "      if carry==0:\n",
        "        s[i]=1\n",
        "    else:\n",
        "      if carry==1:\n",
        "        s[i]=1\n",
        "      else:\n",
        "        carry=1\n",
        "  return s"
      ],
      "metadata": {
        "id": "UttieygCF8Xz"
      },
      "execution_count": null,
      "outputs": []
    },
    {
      "cell_type": "code",
      "source": [
        "one=np.zeros((count),dtype = int)\n",
        "one[count-1]=1\n",
        "\n",
        "m1_neg=np.zeros((count),dtype = int)\n",
        "for i in range(0,count):\n",
        "  if(m1[i]==0):\n",
        "    m1_neg[i]=1\n",
        "  else:\n",
        "    m1_neg[i]=0\n",
        "m1_neg=Add(m1_neg,one,count)"
      ],
      "metadata": {
        "id": "zGfu6tSq__am"
      },
      "execution_count": null,
      "outputs": []
    },
    {
      "cell_type": "code",
      "source": [
        "def partOfa():\n",
        "  ap=np.zeros((count),dtype = int)\n",
        "  for i in range(0,count):\n",
        "    ap[i]=a[i];\n",
        "  return ap\n",
        "\n",
        "def UpdateA(b):\n",
        "  for i in range(0,count):\n",
        "    a[i]=b[i];"
      ],
      "metadata": {
        "id": "8esH2zh1IkXY"
      },
      "execution_count": null,
      "outputs": []
    },
    {
      "cell_type": "code",
      "source": [
        "for i in range(count,length-1):\n",
        "  a[i]=q1[i-count]"
      ],
      "metadata": {
        "id": "srExEH7OR0h6"
      },
      "execution_count": null,
      "outputs": []
    },
    {
      "cell_type": "code",
      "source": [
        "ct=count\n",
        "while(ct!=0):\n",
        "  if a[length-1]==1 and a[length-2]==0:\n",
        "    f_1=partOfa()\n",
        "    UpdateA(Add(f_1,m1,count)) \n",
        "  elif a[length-1]==0 and a[length-2]==1:\n",
        "    a_1=partOfa()\n",
        "    UpdateA(Add(a_1,m1_neg,count))\n",
        "  temp=a[0]\n",
        "  a=np.roll(a,1)\n",
        "  a[0]=temp\n",
        "  ct-=1\n",
        "\n",
        "ans=a\n",
        "print(ans)"
      ],
      "metadata": {
        "id": "GBVqVHAyZ4_Y",
        "colab": {
          "base_uri": "https://localhost:8080/"
        },
        "outputId": "dd8ba299-1075-4756-80c4-24fe9b73234d"
      },
      "execution_count": null,
      "outputs": [
        {
          "output_type": "stream",
          "name": "stdout",
          "text": [
            "[0 0 0 1 0 0 1 1 1 0 1]\n"
          ]
        }
      ]
    },
    {
      "cell_type": "code",
      "source": [
        "f=0\n",
        "if(ans[0]==1):\n",
        "  f=1\n",
        "  for i in range(0,length-1):\n",
        "    if(ans[i]==0):\n",
        "      ans[i]=1\n",
        "    else:\n",
        "      ans[i]=0\n",
        "  one1=np.zeros((length-1),dtype = int)\n",
        "  one1[length-2]=1\n",
        "  ans=Add(ans,one1,length-1)\n",
        "  print(ans)\n",
        "num=0\n",
        "n=length-2\n",
        "j=0\n",
        "for i in range(n,0,-1):\n",
        "  if(ans[i]==1):\n",
        "    num+=2**j\n",
        "  j+=1\n",
        "if(f==1):\n",
        "  num=-num\n",
        "print(num)"
      ],
      "metadata": {
        "colab": {
          "base_uri": "https://localhost:8080/"
        },
        "id": "DHJOisQgKqIC",
        "outputId": "6d45c562-2144-439e-9e67-d282d23903ea"
      },
      "execution_count": null,
      "outputs": [
        {
          "output_type": "stream",
          "name": "stdout",
          "text": [
            "78\n"
          ]
        }
      ]
    }
  ]
}