{
  "nbformat": 4,
  "nbformat_minor": 0,
  "metadata": {
    "colab": {
      "provenance": []
    },
    "kernelspec": {
      "name": "python3",
      "display_name": "Python 3"
    },
    "language_info": {
      "name": "python"
    }
  },
  "cells": [
    {
      "cell_type": "code",
      "execution_count": null,
      "metadata": {
        "id": "Yw_h_SIMyb87"
      },
      "outputs": [],
      "source": [
        "def FIFO(ref,p):\n",
        "  hit=0\n",
        "  fault=p\n",
        "  flag=p\n",
        "  mem=ref[:p].copy()\n",
        "  print(mem)\n",
        "  for i in ref[p:]:\n",
        "    if(i in mem):\n",
        "      hit+=1\n",
        "    else:\n",
        "      fault+=1\n",
        "      if(flag==p):\n",
        "        flag=0\n",
        "      mem[flag]=i\n",
        "      flag+=1\n",
        "    print(mem)\n",
        "  print(\"Number of hits:\",hit)\n",
        "  print(\"Number of fault:\",fault)  \n",
        "  print(\"Hit ratio: \",hit/len(ref))  "
      ]
    },
    {
      "cell_type": "code",
      "source": [
        "def checker(r,mem):\n",
        "  loc=[]\n",
        "  for j in mem:\n",
        "    if j in r:\n",
        "      loc.append(r.index(j))\n",
        "    else:\n",
        "      loc.append(999)\n",
        "  return loc.index(max(loc))\n",
        "\n",
        "def Optimal(ref,p):\n",
        "  hit=0\n",
        "  fault=p\n",
        "  flag=p\n",
        "  mem=ref[:p].copy()\n",
        "  print(mem)\n",
        "  for j,i in enumerate(ref[p:]):\n",
        "    if(i in mem):\n",
        "      hit+=1\n",
        "    else:\n",
        "      fault+=1\n",
        "      flag=checker(ref[j+p+1:],mem)\n",
        "      mem[flag]=i\n",
        "    print(mem)\n",
        "\n",
        "  print(\"Number of hits:\",hit)\n",
        "  print(\"Number of fault:\",fault) \n",
        "  print(\"Hit ratio: \",hit/len(ref))"
      ],
      "metadata": {
        "id": "nqfcdsNs17vi"
      },
      "execution_count": null,
      "outputs": []
    },
    {
      "cell_type": "code",
      "source": [
        "def check(r,mem):\n",
        "  loc=[]\n",
        "  for j in mem:\n",
        "    if j in r:\n",
        "      loc.append(r.index(j))\n",
        "    else:\n",
        "      loc.append(-1)\n",
        "  return loc.index(max(loc))\n",
        "\n",
        "def LRU(ref,p):\n",
        "  hit=0\n",
        "  fault=p\n",
        "  flag=p\n",
        "  mem=ref[:p].copy()\n",
        "  print(mem)\n",
        "  for j,i in enumerate(ref[p:]):\n",
        "    if(i in mem):\n",
        "      hit+=1\n",
        "    else:\n",
        "      fault+=1\n",
        "      r=list(reversed(ref[:j+p+1]))\n",
        "      flag=check(r,mem)\n",
        "      mem[flag]=i\n",
        "    print(mem)\n",
        "\n",
        "  print(\"Number of hits:\",hit)\n",
        "  print(\"Number of fault:\",fault) \n",
        "  print(\"Hit ratio: \",hit/len(ref))"
      ],
      "metadata": {
        "id": "R_GAmUJn17cl"
      },
      "execution_count": null,
      "outputs": []
    },
    {
      "cell_type": "code",
      "source": [
        "ref=[7,0,1,2,0,3,0,4,2,3,0,3,2,1,2,0,1,7,0,1]\n",
        "p=3\n",
        "ref1=[1,3,0,3,5,6]\n",
        "p1=3\n",
        "ref2=[7,0,1,2,0,3,0,4,2,3,0,3,2]\n",
        "p2=4\n",
        "\n",
        "print(\"FIFO:\")\n",
        "FIFO(ref1,p1)\n",
        "print(\"\\nOptimal:\")\n",
        "Optimal(ref2,p2)\n",
        "print(\"\\nLRU:\")\n",
        "LRU(ref2,p2)"
      ],
      "metadata": {
        "colab": {
          "base_uri": "https://localhost:8080/"
        },
        "id": "TV-U3Fbg17R6",
        "outputId": "b02243d9-7522-48d9-b056-3b4edb4e89a3"
      },
      "execution_count": null,
      "outputs": [
        {
          "output_type": "stream",
          "name": "stdout",
          "text": [
            "FIFO:\n",
            "[1, 3, 0]\n",
            "[1, 3, 0]\n",
            "[5, 3, 0]\n",
            "[5, 6, 0]\n",
            "Number of hits: 1\n",
            "Number of fault: 5\n",
            "Hit ratio:  0.16666666666666666\n",
            "\n",
            "Optimal:\n",
            "[7, 0, 1, 2]\n",
            "[7, 0, 1, 2]\n",
            "[3, 0, 1, 2]\n",
            "[3, 0, 1, 2]\n",
            "[3, 0, 4, 2]\n",
            "[3, 0, 4, 2]\n",
            "[3, 0, 4, 2]\n",
            "[3, 0, 4, 2]\n",
            "[3, 0, 4, 2]\n",
            "[3, 0, 4, 2]\n",
            "Number of hits: 7\n",
            "Number of fault: 6\n",
            "Hit ratio:  0.5384615384615384\n",
            "\n",
            "LRU:\n",
            "[7, 0, 1, 2]\n",
            "[7, 0, 1, 2]\n",
            "[3, 0, 1, 2]\n",
            "[3, 0, 1, 2]\n",
            "[3, 0, 4, 2]\n",
            "[3, 0, 4, 2]\n",
            "[3, 0, 4, 2]\n",
            "[3, 0, 4, 2]\n",
            "[3, 0, 4, 2]\n",
            "[3, 0, 4, 2]\n",
            "Number of hits: 7\n",
            "Number of fault: 6\n",
            "Hit ratio:  0.5384615384615384\n"
          ]
        }
      ]
    }
  ]
}
