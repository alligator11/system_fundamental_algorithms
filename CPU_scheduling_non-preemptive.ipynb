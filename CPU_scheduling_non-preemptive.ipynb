{
  "nbformat": 4,
  "nbformat_minor": 0,
  "metadata": {
    "colab": {
      "provenance": []
    },
    "kernelspec": {
      "name": "python3",
      "display_name": "Python 3"
    },
    "language_info": {
      "name": "python"
    }
  },
  "cells": [
    {
      "cell_type": "code",
      "source": [
        "import numpy as np"
      ],
      "metadata": {
        "id": "6YKuVpy3ZhH0"
      },
      "execution_count": null,
      "outputs": []
    },
    {
      "cell_type": "code",
      "source": [
        "n=int(input(\"Enter number of processes: \"))\n",
        "at=np.zeros((n),dtype=int)\n",
        "bt=np.zeros((n),dtype=int)\n",
        "for i in range(0,n):\n",
        "  at[i]=int(input(f\"Enter arrival time of P{i+1}: \"))\n",
        "  bt[i]=int(input(f\"Enter burst time of P{i+1}: \"))\n",
        "\n",
        "ct=np.zeros((n),dtype=int)\n",
        "tat=np.zeros((n),dtype=int)\n",
        "wt=np.zeros((n),dtype=int)"
      ],
      "metadata": {
        "colab": {
          "base_uri": "https://localhost:8080/"
        },
        "id": "kj8hUQGEZh7j",
        "outputId": "f614e120-8af5-475b-db67-41cb80be034f"
      },
      "execution_count": null,
      "outputs": [
        {
          "name": "stdout",
          "output_type": "stream",
          "text": [
            "Enter number of processes: 5\n",
            "Enter arrival time of P1: 0\n",
            "Enter burst time of P1: 3\n",
            "Enter arrival time of P2: 1\n",
            "Enter burst time of P2: 5\n",
            "Enter arrival time of P3: 3\n",
            "Enter burst time of P3: 2\n",
            "Enter arrival time of P4: 9\n",
            "Enter burst time of P4: 5\n",
            "Enter arrival time of P5: 12\n",
            "Enter burst time of P5: 5\n"
          ]
        }
      ]
    },
    {
      "cell_type": "code",
      "source": [
        "print(\"Inputs given by the user are:\")\n",
        "print(\"-------------------\")\n",
        "print(\"Process\\t AT\\t BT\")\n",
        "for i in range(0,n):\n",
        "  print(f\"P{i+1}\\t{at[i]}\\t{bt[i]}\")\n",
        "print(\"-------------------\")"
      ],
      "metadata": {
        "colab": {
          "base_uri": "https://localhost:8080/"
        },
        "id": "AqSVG-P0a5n1",
        "outputId": "1e878125-5b1f-4195-9cea-567673316c19"
      },
      "execution_count": null,
      "outputs": [
        {
          "output_type": "stream",
          "name": "stdout",
          "text": [
            "Inputs given by the user are:\n",
            "-------------------\n",
            "Process\t AT\t BT\n",
            "P1\t0\t3\n",
            "P2\t1\t5\n",
            "P3\t3\t2\n",
            "P4\t9\t5\n",
            "P5\t12\t5\n",
            "-------------------\n"
          ]
        }
      ]
    },
    {
      "cell_type": "markdown",
      "source": [
        "FCFS"
      ],
      "metadata": {
        "id": "qTu3e5K7YVJG"
      }
    },
    {
      "cell_type": "code",
      "execution_count": null,
      "metadata": {
        "id": "tbyGj1eERdtC"
      },
      "outputs": [],
      "source": [
        "def FCFS(at,bt):\n",
        "  at1=np.copy(at)\n",
        "  track=np.zeros((n),dtype=int)\n",
        "  currt=0\n",
        "  for i in range(n):\n",
        "    minAt=np.argmin(at1)\n",
        "    track[i]=minAt\n",
        "    if currt<at[minAt]:\n",
        "      currt=at[minAt]\n",
        "    ct[minAt]=currt+bt[minAt]\n",
        "    currt=ct[minAt]\n",
        "    tat[minAt]=ct[minAt]-at[minAt]\n",
        "    wt[minAt]=tat[minAt]-bt[minAt]\n",
        "    at1[minAt]=np.max(at1)+1\n",
        "\n",
        "  print(\"Gantt Chart is as follows:\\n0\",end=\"\")\n",
        "  for i in range(n):\n",
        "    print(f\" -> P{track[i]+1} -> {ct[track[i]]}\",end=\"\")\n",
        "\n",
        "  print(\"\\n\\n-------------------TABLE-------------------\")\n",
        "  print(\"Process\\t AT\\t BT\\t FT\\t TAT\\t WT\")\n",
        "  for i in range(n):\n",
        "    print(f\"P{i+1}\\t{at[i]}\\t{bt[i]}\\t{ct[i]}\\t{tat[i]}\\t{wt[i]}\")\n",
        "  print(\"-------------------------------------------\")\n",
        "\n",
        "  awt=sum(wt)/len(wt)\n",
        "  atat=sum(tat)/len(tat)\n",
        "  return awt,atat"
      ]
    },
    {
      "cell_type": "code",
      "source": [
        "avg_wt,avg_tat=FCFS(at,bt)\n",
        "print(\"Average Waiting time = \",avg_wt)\n",
        "print(\"Average Turnaround time = \",avg_tat)"
      ],
      "metadata": {
        "colab": {
          "base_uri": "https://localhost:8080/"
        },
        "id": "Tj_lBh-Hhgcx",
        "outputId": "edb86154-216e-42a9-e551-a65f204074a7"
      },
      "execution_count": null,
      "outputs": [
        {
          "output_type": "stream",
          "name": "stdout",
          "text": [
            "Gantt Chart is as follows:\n",
            "0 -> P1 -> 3 -> P2 -> 8 -> P3 -> 10 -> P4 -> 15 -> P5 -> 20\n",
            "\n",
            "-------------------TABLE-------------------\n",
            "Process\t AT\t BT\t FT\t TAT\t WT\n",
            "P1\t0\t3\t3\t3\t0\n",
            "P2\t1\t5\t8\t7\t2\n",
            "P3\t3\t2\t10\t7\t5\n",
            "P4\t9\t5\t15\t6\t1\n",
            "P5\t12\t5\t20\t8\t3\n",
            "-------------------------------------------\n",
            "Average Waiting time =  2.2\n",
            "Average Turnaround time =  6.2\n"
          ]
        }
      ]
    },
    {
      "cell_type": "markdown",
      "source": [
        "SJF"
      ],
      "metadata": {
        "id": "QFRSNNB7YXDV"
      }
    },
    {
      "cell_type": "code",
      "source": [
        "def checkWaiting(at1,cl):\n",
        "  waiting={}\n",
        "  lt=[]\n",
        "  for i in range(n):\n",
        "    if(at1[i]<=cl):\n",
        "      waiting[i]=bt[i]\n",
        "  keys=list(waiting.keys())\n",
        "  values = list(waiting.values())\n",
        "  if len(keys)>0:\n",
        "    index = np.argmin(values)\n",
        "    return keys[index]\n",
        "  else:\n",
        "    return -1"
      ],
      "metadata": {
        "id": "nHFamTUMnzA8"
      },
      "execution_count": null,
      "outputs": []
    },
    {
      "cell_type": "code",
      "source": [
        "def SJF(at,bt):\n",
        "  at1=np.copy(at)\n",
        "  track=np.zeros((n),dtype=int)\n",
        "  currt=0\n",
        "  for i in range(n):\n",
        "    wait=checkWaiting(at1,currt)\n",
        "    if wait==-1:\n",
        "      minAt=np.argmin(at1)\n",
        "    else:\n",
        "      minAt=wait\n",
        "    track[i]=minAt\n",
        "    if currt<at[minAt]:\n",
        "      currt=at[minAt]\n",
        "    ct[minAt]=currt+bt[minAt]\n",
        "    currt=ct[minAt]\n",
        "    tat[minAt]=ct[minAt]-at[minAt]\n",
        "    wt[minAt]=tat[minAt]-bt[minAt]\n",
        "    at1[minAt]=100\n",
        "\n",
        "  print(\"Gantt Chart is as follows:\\n0\",end=\"\")\n",
        "  for i in range(n):\n",
        "    print(f\" -> P{track[i]+1} -> {ct[track[i]]}\",end=\"\")\n",
        "\n",
        "  print(\"\\n\\n-------------------TABLE-------------------\")\n",
        "  print(\"Process\\t AT\\t BT\\t FT\\t TAT\\t WT\")\n",
        "  for i in range(n):\n",
        "    print(f\"P{i+1}\\t{at[i]}\\t{bt[i]}\\t{ct[i]}\\t{tat[i]}\\t{wt[i]}\")\n",
        "  print(\"-------------------------------------------\")\n",
        "\n",
        "  awt=sum(wt)/len(wt)\n",
        "  atat=sum(tat)/len(tat)\n",
        "  return awt,atat"
      ],
      "metadata": {
        "id": "YWB-95EyjpmX"
      },
      "execution_count": null,
      "outputs": []
    },
    {
      "cell_type": "code",
      "source": [
        "avg_wt,avg_tat=SJF(at,bt)\n",
        "print(\"Average Waiting time = \",avg_wt)\n",
        "print(\"Average Turnaround time = \",avg_tat)"
      ],
      "metadata": {
        "colab": {
          "base_uri": "https://localhost:8080/"
        },
        "id": "z7ujFOeyuVNb",
        "outputId": "cebcb6d3-6e68-4dec-a8d8-525dde53c702"
      },
      "execution_count": null,
      "outputs": [
        {
          "output_type": "stream",
          "name": "stdout",
          "text": [
            "Gantt Chart is as follows:\n",
            "0 -> P1 -> 3 -> P3 -> 5 -> P2 -> 10 -> P4 -> 15 -> P5 -> 20\n",
            "\n",
            "-------------------TABLE-------------------\n",
            "Process\t AT\t BT\t FT\t TAT\t WT\n",
            "P1\t0\t3\t3\t3\t0\n",
            "P2\t1\t5\t10\t9\t4\n",
            "P3\t3\t2\t5\t2\t0\n",
            "P4\t9\t5\t15\t6\t1\n",
            "P5\t12\t5\t20\t8\t3\n",
            "-------------------------------------------\n",
            "Average Waiting time =  1.6\n",
            "Average Turnaround time =  5.6\n"
          ]
        }
      ]
    },
    {
      "cell_type": "markdown",
      "source": [
        "Priority"
      ],
      "metadata": {
        "id": "L4nxVPo8YZdd"
      }
    },
    {
      "cell_type": "code",
      "source": [
        "pr=np.zeros((n),dtype=int)\n",
        "for i in range(n):\n",
        "  pr[i]=int(input(f'Enter priority of P{i+1}: '))\n",
        "print(\"Choose if priority is to be given to\\n1.bigger number\\n2.smaller number\")\n",
        "c=int(input())"
      ],
      "metadata": {
        "id": "-mkyG0kHYdf6",
        "colab": {
          "base_uri": "https://localhost:8080/"
        },
        "outputId": "02a9f3ad-fe38-44e1-9ac2-1c3b60e933ee"
      },
      "execution_count": null,
      "outputs": [
        {
          "name": "stdout",
          "output_type": "stream",
          "text": [
            "Enter priority of P1: 2\n",
            "Enter priority of P2: 3\n",
            "Enter priority of P3: 1\n",
            "Enter priority of P4: 3\n",
            "Enter priority of P5: 3\n",
            "Choose if priority is to be given to\n",
            "1.bigger number\n",
            "2.smaller number\n",
            "2\n"
          ]
        }
      ]
    },
    {
      "cell_type": "code",
      "source": [
        "print(\"Inputs given by the user are:\")\n",
        "print(\"----------------------------------\")\n",
        "print(\"Process\\t AT\\t BT \\t Priority\")\n",
        "for i in range(n):\n",
        "  print(f\"P{i+1}\\t{at[i]}\\t{bt[i]}\\t{pr[i]}\")\n",
        "print(\"----------------------------------\")"
      ],
      "metadata": {
        "colab": {
          "base_uri": "https://localhost:8080/"
        },
        "id": "4CXsizoYAGHz",
        "outputId": "d2fd1d1a-b087-401c-a643-1d98b09ed3ed"
      },
      "execution_count": null,
      "outputs": [
        {
          "output_type": "stream",
          "name": "stdout",
          "text": [
            "Inputs given by the user are:\n",
            "----------------------------------\n",
            "Process\t AT\t BT \t Priority\n",
            "P1\t0\t3\t2\n",
            "P2\t1\t5\t3\n",
            "P3\t3\t2\t1\n",
            "P4\t9\t5\t3\n",
            "P5\t12\t5\t3\n",
            "----------------------------------\n"
          ]
        }
      ]
    },
    {
      "cell_type": "code",
      "source": [
        "def checkWaiting(at1,cl):\n",
        "  waiting={}\n",
        "  lt=[]\n",
        "  for i in range(n):\n",
        "    if(at1[i]<=cl):\n",
        "      waiting[i]=pr[i]\n",
        "  keys = list(waiting.keys())\n",
        "  values = list(waiting.values())\n",
        "  if len(keys)>0:\n",
        "    if c==2:\n",
        "      index = np.argmin(values)\n",
        "    elif c==1:\n",
        "      index = np.argmax(values)\n",
        "    return keys[index]\n",
        "  else:\n",
        "    return -1"
      ],
      "metadata": {
        "id": "eeo19LuA4Egj"
      },
      "execution_count": null,
      "outputs": []
    },
    {
      "cell_type": "code",
      "source": [
        "def Priority(at,bt):\n",
        "  at1=np.copy(at)\n",
        "  track=np.zeros((n),dtype=int)\n",
        "  currt=0\n",
        "  for i in range(n):\n",
        "    wait=checkWaiting(at1,currt)\n",
        "    if wait==-1:\n",
        "      minAt=np.argmin(at1)\n",
        "    else:\n",
        "      minAt=wait\n",
        "    track[i]=minAt\n",
        "    if currt<at[minAt]:\n",
        "      currt=at[minAt]\n",
        "    ct[minAt]=currt+bt[minAt]\n",
        "    currt=ct[minAt]\n",
        "    tat[minAt]=ct[minAt]-at[minAt]\n",
        "    wt[minAt]=tat[minAt]-bt[minAt]\n",
        "    at1[minAt]=100\n",
        "\n",
        "  print(\"Gantt Chart is as follows:\\n0\",end=\"\")\n",
        "  for i in range(n):\n",
        "    print(f\" -> P{track[i]+1} -> {ct[track[i]]}\",end=\"\")\n",
        "\n",
        "  print(\"\\n\\n-----------------------TABLE-----------------------\")\n",
        "  print(\"Process\\t AT\\t BT\\t PR\\t FT\\t TAT\\t WT\")\n",
        "  for i in range(n):\n",
        "    print(f\"P{i+1}\\t{at[i]}\\t{bt[i]}\\t{pr[i]}\\t{ct[i]}\\t{tat[i]}\\t{wt[i]}\")\n",
        "  print(\"---------------------------------------------------\")\n",
        "\n",
        "  awt=sum(wt)/len(wt)\n",
        "  atat=sum(tat)/len(tat)\n",
        "  return awt,atat"
      ],
      "metadata": {
        "id": "YHQfXBdF4UKf"
      },
      "execution_count": null,
      "outputs": []
    },
    {
      "cell_type": "code",
      "source": [
        "avg_wt,avg_tat=Priority(at,bt)\n",
        "print(\"Average Waiting time = \",avg_wt)\n",
        "print(\"Average Turnaround time = \",avg_tat)"
      ],
      "metadata": {
        "colab": {
          "base_uri": "https://localhost:8080/"
        },
        "outputId": "5e4809c5-4a88-4f19-ac42-4e3108df4078",
        "id": "QDewrqko4i3e"
      },
      "execution_count": null,
      "outputs": [
        {
          "output_type": "stream",
          "name": "stdout",
          "text": [
            "Gantt Chart is as follows:\n",
            "0 -> P1 -> 3 -> P3 -> 5 -> P2 -> 10 -> P4 -> 15 -> P5 -> 20\n",
            "\n",
            "-----------------------TABLE-----------------------\n",
            "Process\t AT\t BT\t PR\t FT\t TAT\t WT\n",
            "P1\t0\t3\t2\t3\t3\t0\n",
            "P2\t1\t5\t3\t10\t9\t4\n",
            "P3\t3\t2\t1\t5\t2\t0\n",
            "P4\t9\t5\t3\t15\t6\t1\n",
            "P5\t12\t5\t3\t20\t8\t3\n",
            "---------------------------------------------------\n",
            "Average Waiting time =  1.6\n",
            "Average Turnaround time =  5.6\n"
          ]
        }
      ]
    }
  ]
}
