{
  "nbformat": 4,
  "nbformat_minor": 0,
  "metadata": {
    "colab": {
      "provenance": []
    },
    "kernelspec": {
      "name": "python3",
      "display_name": "Python 3"
    },
    "language_info": {
      "name": "python"
    }
  },
  "cells": [
    {
      "cell_type": "code",
      "source": [
        "import numpy as np"
      ],
      "metadata": {
        "id": "nYKihE5C32X-"
      },
      "execution_count": null,
      "outputs": []
    },
    {
      "cell_type": "code",
      "source": [
        "n=int(input(\"Enter number of resources: \"))\n",
        "print(\"Enter max instances of each resource- \")\n",
        "a=int(input(\"a=\"))\n",
        "b=int(input(\"b=\"))\n",
        "c=int(input(\"c=\"))"
      ],
      "metadata": {
        "colab": {
          "base_uri": "https://localhost:8080/"
        },
        "id": "BsMxcnYf3OOy",
        "outputId": "e25635f3-86db-42c0-98a8-92ea9211669d"
      },
      "execution_count": null,
      "outputs": [
        {
          "name": "stdout",
          "output_type": "stream",
          "text": [
            "Enter number of resources: 3\n",
            "Enter max instances of each resource- \n",
            "a=10\n",
            "b=5\n",
            "c=7\n"
          ]
        }
      ]
    },
    {
      "cell_type": "code",
      "source": [
        "p=int(input(\"Enter number of processes: \"))\n",
        "pro=list(range(p))\n",
        "pro"
      ],
      "metadata": {
        "colab": {
          "base_uri": "https://localhost:8080/"
        },
        "id": "UZoFBJGm3Z3d",
        "outputId": "9a91a6f2-765f-4bd8-c57b-df12af1a47e1"
      },
      "execution_count": null,
      "outputs": [
        {
          "name": "stdout",
          "output_type": "stream",
          "text": [
            "Enter number of processes: 5\n"
          ]
        },
        {
          "output_type": "execute_result",
          "data": {
            "text/plain": [
              "[0, 1, 2, 3, 4]"
            ]
          },
          "metadata": {},
          "execution_count": 32
        }
      ]
    },
    {
      "cell_type": "code",
      "execution_count": null,
      "metadata": {
        "colab": {
          "base_uri": "https://localhost:8080/"
        },
        "id": "ZiPh77ijqfhM",
        "outputId": "60b05f82-aea5-488c-946c-ba7f49036c91"
      },
      "outputs": [
        {
          "name": "stdout",
          "output_type": "stream",
          "text": [
            "Enter the allocation matrix: \n",
            "P[0],R1=0\n",
            "P[0],R2=1\n",
            "P[0],R3=0\n",
            "P[1],R1=2\n",
            "P[1],R2=0\n",
            "P[1],R3=0\n",
            "P[2],R1=3\n",
            "P[2],R2=0\n",
            "P[2],R3=2\n",
            "P[3],R1=2\n",
            "P[3],R2=1\n",
            "P[3],R3=1\n",
            "P[4],R1=0\n",
            "P[4],R2=0\n",
            "P[4],R3=2\n"
          ]
        },
        {
          "output_type": "execute_result",
          "data": {
            "text/plain": [
              "array([[0, 1, 0],\n",
              "       [2, 0, 0],\n",
              "       [3, 0, 2],\n",
              "       [2, 1, 1],\n",
              "       [0, 0, 2]])"
            ]
          },
          "metadata": {},
          "execution_count": 33
        }
      ],
      "source": [
        "print(\"Enter the allocation matrix: \")\n",
        "alloc=[]\n",
        "for i in range(p):\n",
        "  temp=[]\n",
        "  for j in range(1,n+1):\n",
        "    temp.append(int(input(f\"P[{i}],R{j}=\")))\n",
        "  alloc.append(temp)\n",
        "alloc=np.asarray(alloc)\n",
        "alloc"
      ]
    },
    {
      "cell_type": "code",
      "source": [
        "print(\"Enter the MAX matrix: \")\n",
        "max=[]\n",
        "for i in range(p):\n",
        "  temp=[]\n",
        "  for j in range(1,n+1):\n",
        "    temp.append(int(input(f\"P[{i}],R{j}=\")))\n",
        "  max.append(temp)\n",
        "max=np.asarray(max)\n",
        "max"
      ],
      "metadata": {
        "colab": {
          "base_uri": "https://localhost:8080/"
        },
        "id": "KgCrE3gc3ftq",
        "outputId": "26fe3ae6-4eb7-4129-bc08-80ccf21d6219"
      },
      "execution_count": null,
      "outputs": [
        {
          "name": "stdout",
          "output_type": "stream",
          "text": [
            "Enter the MAX matrix: \n",
            "P[0],R1=7\n",
            "P[0],R2=5\n",
            "P[0],R3=3\n",
            "P[1],R1=3\n",
            "P[1],R2=2\n",
            "P[1],R3=2\n",
            "P[2],R1=9\n",
            "P[2],R2=0\n",
            "P[2],R3=2\n",
            "P[3],R1=2\n",
            "P[3],R2=2\n",
            "P[3],R3=2\n",
            "P[4],R1=4\n",
            "P[4],R2=3\n",
            "P[4],R3=3\n"
          ]
        },
        {
          "output_type": "execute_result",
          "data": {
            "text/plain": [
              "array([[7, 5, 3],\n",
              "       [3, 2, 2],\n",
              "       [9, 0, 2],\n",
              "       [2, 2, 2],\n",
              "       [4, 3, 3]])"
            ]
          },
          "metadata": {},
          "execution_count": 34
        }
      ]
    },
    {
      "cell_type": "code",
      "source": [
        "total=np.zeros(n,dtype=int)\n",
        "for x in alloc:\n",
        "  total=np.add(total,x)\n",
        "total"
      ],
      "metadata": {
        "colab": {
          "base_uri": "https://localhost:8080/"
        },
        "id": "ie0wapCSAE-Y",
        "outputId": "14935534-d0f6-439e-977d-cd7785258b4d"
      },
      "execution_count": null,
      "outputs": [
        {
          "output_type": "execute_result",
          "data": {
            "text/plain": [
              "array([7, 2, 5])"
            ]
          },
          "metadata": {},
          "execution_count": 35
        }
      ]
    },
    {
      "cell_type": "code",
      "source": [
        "avail=np.subtract(np.array([a,b,c]),total)\n",
        "print(\"Available resources: \",avail)"
      ],
      "metadata": {
        "colab": {
          "base_uri": "https://localhost:8080/"
        },
        "id": "Uc1mYWXdAMCh",
        "outputId": "4db4bb0e-6134-42b4-ff3e-307b6afaa174"
      },
      "execution_count": null,
      "outputs": [
        {
          "output_type": "stream",
          "name": "stdout",
          "text": [
            "Available resources:  [3 3 2]\n"
          ]
        }
      ]
    },
    {
      "cell_type": "code",
      "source": [
        "remain=[]\n",
        "for x,y in zip(alloc,max):\n",
        "  temp=np.subtract(y,x)\n",
        "  remain.append(temp)\n",
        "\n",
        "remain=np.array(remain)\n",
        "print(\"Remaining:\\n\",remain)"
      ],
      "metadata": {
        "colab": {
          "base_uri": "https://localhost:8080/"
        },
        "id": "3KfBuvkxAUVR",
        "outputId": "91252d6c-bad8-4c81-c45f-dd658d05ba2c"
      },
      "execution_count": null,
      "outputs": [
        {
          "output_type": "stream",
          "name": "stdout",
          "text": [
            "Remaining:\n",
            " [[7 4 3]\n",
            " [1 2 2]\n",
            " [6 0 0]\n",
            " [0 1 1]\n",
            " [4 3 1]]\n"
          ]
        }
      ]
    },
    {
      "cell_type": "code",
      "source": [
        "def check_avail(pr):\n",
        "  for i,j in enumerate(pr):\n",
        "    if(j>avail[i]):\n",
        "      return 0\n",
        "  return 1"
      ],
      "metadata": {
        "id": "3D4V6Ty5A8T8"
      },
      "execution_count": null,
      "outputs": []
    },
    {
      "cell_type": "code",
      "source": [
        "i=0\n",
        "ss=[]\n",
        "while np.size(remain):\n",
        "  if(i>len(remain)-1):\n",
        "    i=0\n",
        "  if(check_avail(remain[i])==0):\n",
        "    i+=1\n",
        "    continue\n",
        "  else:\n",
        "    ss.append(pro[i])\n",
        "    avail=np.add(avail,alloc[i])\n",
        "    remain=np.delete(remain, i, 0)\n",
        "    alloc=np.delete(alloc,i,0)\n",
        "    pro=np.delete(pro,i,0)"
      ],
      "metadata": {
        "id": "S8Kmy8Qxrev1"
      },
      "execution_count": null,
      "outputs": []
    },
    {
      "cell_type": "code",
      "source": [
        "if(len(ss)==p):\n",
        "  print(\"Safe sequence: \",ss)\n",
        "else:\n",
        "  print(\"The system is not in safe state.\")"
      ],
      "metadata": {
        "colab": {
          "base_uri": "https://localhost:8080/"
        },
        "id": "hrMBNs6n0LQ-",
        "outputId": "01bb4e2e-452b-47b2-b308-46ec9edb0867"
      },
      "execution_count": null,
      "outputs": [
        {
          "output_type": "stream",
          "name": "stdout",
          "text": [
            "Safe sequence:  [1, 3, 4, 0, 2]\n"
          ]
        }
      ]
    },
    {
      "cell_type": "code",
      "source": [],
      "metadata": {
        "id": "f-8h7Z7I8jcc"
      },
      "execution_count": null,
      "outputs": []
    }
  ]
}